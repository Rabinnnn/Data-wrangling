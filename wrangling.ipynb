{
 "cells": [
  {
   "cell_type": "code",
   "execution_count": null,
   "id": "4a647435-54d6-4288-b1ff-fd7851406cd4",
   "metadata": {},
   "outputs": [],
   "source": [
    "import pandas as pd\n",
    "\n",
    "# Define the two DataFrames\n",
    "df1 = pd.DataFrame([['a', 1], ['b', 2]],\n",
    "                   columns=['letter', 'number'])\n",
    "df2 = pd.DataFrame([['c', 1], ['d', 2]],\n",
    "                   columns=['letter', 'number'])\n",
    "\n",
    "# Concatenate the DataFrames vertically (axis=0) and reset the index\n",
    "# The default axis is 0, so we don't need to specify it.\n",
    "df_combined = pd.concat([df1, df2], ignore_index=True)\n",
    "\n",
    "# Print the resulting DataFrame and its index type\n",
    "print(\"Combined DataFrame:\")\n",
    "print(df_combined)\n",
    "print(\"\\nIndex Type:\")\n",
    "print(df_combined.index)"
   ]
  },
  {
   "cell_type": "code",
   "execution_count": null,
   "id": "1d874f05-fc52-443a-b263-04162ca23c4b",
   "metadata": {},
   "outputs": [],
   "source": [
    "import pandas as pd\n",
    "\n",
    "# Define the first DataFrame (df1)\n",
    "df1_dict = {\n",
    "        'id': ['1', '2', '3', '4', '5'],\n",
    "        'Feature1': ['A', 'C', 'E', 'G', 'I'],\n",
    "        'Feature2': ['B', 'D', 'F', 'H', 'J']}\n",
    "df1 = pd.DataFrame(df1_dict, columns = ['id', 'Feature1', 'Feature2'])\n",
    "\n",
    "# Define the second DataFrame (df2)\n",
    "df2_dict = {\n",
    "        'id': ['1', '2', '6', '7', '8'],\n",
    "        'Feature1': ['K', 'M', 'O', 'Q', 'S'],\n",
    "        'Feature2': ['L', 'N', 'P', 'R', 'T']}\n",
    "df2 = pd.DataFrame(df2_dict, columns = ['id', 'Feature1', 'Feature2'])\n",
    "\n",
    "print(\"--- DataFrame 1 ---\")\n",
    "print(df1)\n",
    "print(\"\\n--- DataFrame 2 ---\")\n",
    "print(df2)\n",
    "print(\"\\n\" + \"=\"*50 + \"\\n\")"
   ]
  },
  {
   "cell_type": "code",
   "execution_count": null,
   "id": "67cd3720-d468-450b-8d61-4b5b9f17577a",
   "metadata": {},
   "outputs": [],
   "source": [
    "# Inner Merge: Keeps only the intersecting IDs ('1' and '2')\n",
    "df_inner = pd.merge(df1, df2, on='id', how='inner')\n",
    "\n",
    "print(\"Output 1: Inner Merge\")\n",
    "print(df_inner)"
   ]
  },
  {
   "cell_type": "code",
   "execution_count": null,
   "id": "1c383777-9ffe-41e5-b8f8-41750e6b51f3",
   "metadata": {},
   "outputs": [],
   "source": [
    "# Outer Merge: Keeps all IDs from both DataFrames\n",
    "df_outer = pd.merge(\n",
    "    df1,\n",
    "    df2,\n",
    "    on='id',\n",
    "    how='outer',\n",
    "    suffixes=('_df1', '_df2') # Set custom suffixes for clarity\n",
    ")\n",
    "\n",
    "# Replace 'nan' with 'nannan' for visual match with your example (optional step)\n",
    "df_outer = df_outer.fillna('nan')\n",
    "\n",
    "print(\"\\nOutput 2: Full Outer Merge\")\n",
    "print(df_outer)"
   ]
  },
  {
   "cell_type": "code",
   "execution_count": 5,
   "id": "fa80930c-5d47-4c33-a4b5-85768def1ee5",
   "metadata": {},
   "outputs": [
    {
     "name": "stdout",
     "output_type": "stream",
     "text": [
      "DataFrame Shape: (1305, 5)\n",
      "\n",
      "merged_df.head():\n",
      "                       Open     Close  Close_Adjusted   Twitter    Reddit\n",
      "Date       Ticker                                                        \n",
      "2021-01-01 AAPL    0.232440 -0.642224        0.701506  1.255081  0.600231\n",
      "           FB      0.947082  0.718007        1.208549  0.551082 -0.588527\n",
      "           GE      0.838357  0.546035        0.936297 -1.639090 -0.465402\n",
      "           AMZN    0.634875 -0.835024       -0.711350 -0.902523  0.987333\n",
      "           DAI     1.626691 -0.785365       -0.961057  0.169458  2.036299\n",
      "\n",
      "Validation Check (Q2): True\n"
     ]
    }
   ],
   "source": [
    "import pandas as pd\n",
    "import numpy as np\n",
    "\n",
    "# generate days\n",
    "all_dates = pd.date_range('2021-01-01', '2021-12-15')\n",
    "business_dates = pd.bdate_range('2021-01-01', '2021-12-31')\n",
    "\n",
    "# generate tickers\n",
    "tickers = ['AAPL', 'FB', 'GE', 'AMZN', 'DAI']\n",
    "\n",
    "# create indexs\n",
    "index_alt = pd.MultiIndex.from_product([all_dates, tickers], names=['Date', 'Ticker'])\n",
    "index = pd.MultiIndex.from_product([business_dates, tickers], names=['Date', 'Ticker'])\n",
    "\n",
    "# create DFs\n",
    "market_data = pd.DataFrame(index=index,\n",
    "                        data=np.random.randn(len(index), 3),\n",
    "                        columns=['Open','Close','Close_Adjusted'])\n",
    "\n",
    "alternative_data = pd.DataFrame(index=index_alt,\n",
    "                                data=np.random.randn(len(index_alt), 2),\n",
    "                                columns=['Twitter','Reddit'])\n",
    "\n",
    "# --- Question 1: Merge MultiIndex ---\n",
    "merged_df = market_data.merge(alternative_data, \n",
    "                             how='left', \n",
    "                             left_index=True, \n",
    "                             right_index=True)\n",
    "\n",
    "# --- Question 2: Fill Missing Values ---\n",
    "filled_df = merged_df.fillna(0)\n",
    "\n",
    "# Validation check:\n",
    "validation_result = filled_df.sum().sum() == merged_df.sum().sum()\n",
    "\n",
    "# Output the required validation results\n",
    "print(f\"DataFrame Shape: {merged_df.shape}\")\n",
    "print(\"\\nmerged_df.head():\")\n",
    "print(merged_df.head())\n",
    "print(f\"\\nValidation Check (Q2): {validation_result}\")"
   ]
  },
  {
   "cell_type": "code",
   "execution_count": null,
   "id": "6719a55d-b87e-4273-99e5-e772cece350b",
   "metadata": {},
   "outputs": [],
   "source": []
  },
  {
   "cell_type": "code",
   "execution_count": null,
   "id": "34bacddf-6efc-404b-850c-76130221d6af",
   "metadata": {},
   "outputs": [],
   "source": []
  },
  {
   "cell_type": "code",
   "execution_count": null,
   "id": "58459ea3-452c-4e35-92b1-d460fda21a18",
   "metadata": {},
   "outputs": [],
   "source": []
  },
  {
   "cell_type": "code",
   "execution_count": null,
   "id": "d38cc677-56b6-462d-97f5-0f0dd71bdab3",
   "metadata": {},
   "outputs": [],
   "source": []
  },
  {
   "cell_type": "code",
   "execution_count": null,
   "id": "74b4af01-f094-4a90-8c1b-bd1b0aff71f0",
   "metadata": {},
   "outputs": [],
   "source": []
  },
  {
   "cell_type": "code",
   "execution_count": null,
   "id": "dba40bb8-d9f8-4b21-bd75-31a266c7e819",
   "metadata": {},
   "outputs": [],
   "source": []
  },
  {
   "cell_type": "code",
   "execution_count": null,
   "id": "8fd80f27-3dac-4e5a-888c-dd7052a799fb",
   "metadata": {},
   "outputs": [],
   "source": []
  },
  {
   "cell_type": "code",
   "execution_count": null,
   "id": "2b071a52-8ecc-4858-84dc-cb59273616ce",
   "metadata": {},
   "outputs": [],
   "source": []
  },
  {
   "cell_type": "code",
   "execution_count": null,
   "id": "1059c858-29c1-4725-bc8e-5817f08fafc6",
   "metadata": {},
   "outputs": [],
   "source": []
  },
  {
   "cell_type": "code",
   "execution_count": null,
   "id": "ef01d865-1faa-4add-947d-1b1e40ae8ace",
   "metadata": {},
   "outputs": [],
   "source": []
  },
  {
   "cell_type": "code",
   "execution_count": null,
   "id": "fb97b073-aec8-4e45-925e-b3aa58119226",
   "metadata": {},
   "outputs": [],
   "source": []
  },
  {
   "cell_type": "code",
   "execution_count": null,
   "id": "7774874c-bf16-4e43-82fe-c064c75bab93",
   "metadata": {},
   "outputs": [],
   "source": []
  },
  {
   "cell_type": "code",
   "execution_count": null,
   "id": "1519ab0a-89d0-4087-98c4-d4cdce698dc0",
   "metadata": {},
   "outputs": [],
   "source": []
  }
 ],
 "metadata": {
  "kernelspec": {
   "display_name": "Python 3 (ipykernel)",
   "language": "python",
   "name": "python3"
  },
  "language_info": {
   "codemirror_mode": {
    "name": "ipython",
    "version": 3
   },
   "file_extension": ".py",
   "mimetype": "text/x-python",
   "name": "python",
   "nbconvert_exporter": "python",
   "pygments_lexer": "ipython3",
   "version": "3.12.3"
  }
 },
 "nbformat": 4,
 "nbformat_minor": 5
}
