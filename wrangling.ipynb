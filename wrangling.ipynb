{
 "cells": [
  {
   "cell_type": "code",
   "execution_count": 1,
   "id": "4a647435-54d6-4288-b1ff-fd7851406cd4",
   "metadata": {},
   "outputs": [
    {
     "name": "stdout",
     "output_type": "stream",
     "text": [
      "Combined DataFrame:\n",
      "  letter  number\n",
      "0      a       1\n",
      "1      b       2\n",
      "2      c       1\n",
      "3      d       2\n",
      "\n",
      "Index Type:\n",
      "RangeIndex(start=0, stop=4, step=1)\n"
     ]
    }
   ],
   "source": [
    "import pandas as pd\n",
    "\n",
    "# Define the two DataFrames\n",
    "df1 = pd.DataFrame([['a', 1], ['b', 2]],\n",
    "                   columns=['letter', 'number'])\n",
    "df2 = pd.DataFrame([['c', 1], ['d', 2]],\n",
    "                   columns=['letter', 'number'])\n",
    "\n",
    "# Concatenate the DataFrames vertically (axis=0) and reset the index\n",
    "# The default axis is 0, so we don't need to specify it.\n",
    "df_combined = pd.concat([df1, df2], ignore_index=True)\n",
    "\n",
    "# Print the resulting DataFrame and its index type\n",
    "print(\"Combined DataFrame:\")\n",
    "print(df_combined)\n",
    "print(\"\\nIndex Type:\")\n",
    "print(df_combined.index)"
   ]
  },
  {
   "cell_type": "code",
   "execution_count": 1,
   "id": "1d874f05-fc52-443a-b263-04162ca23c4b",
   "metadata": {},
   "outputs": [
    {
     "name": "stdout",
     "output_type": "stream",
     "text": [
      "--- DataFrame 1 ---\n",
      "  id Feature1 Feature2\n",
      "0  1        A        B\n",
      "1  2        C        D\n",
      "2  3        E        F\n",
      "3  4        G        H\n",
      "4  5        I        J\n",
      "\n",
      "--- DataFrame 2 ---\n",
      "  id Feature1 Feature2\n",
      "0  1        K        L\n",
      "1  2        M        N\n",
      "2  6        O        P\n",
      "3  7        Q        R\n",
      "4  8        S        T\n",
      "\n",
      "==================================================\n",
      "\n"
     ]
    }
   ],
   "source": [
    "import pandas as pd\n",
    "\n",
    "# Define the first DataFrame (df1)\n",
    "df1_dict = {\n",
    "        'id': ['1', '2', '3', '4', '5'],\n",
    "        'Feature1': ['A', 'C', 'E', 'G', 'I'],\n",
    "        'Feature2': ['B', 'D', 'F', 'H', 'J']}\n",
    "df1 = pd.DataFrame(df1_dict, columns = ['id', 'Feature1', 'Feature2'])\n",
    "\n",
    "# Define the second DataFrame (df2)\n",
    "df2_dict = {\n",
    "        'id': ['1', '2', '6', '7', '8'],\n",
    "        'Feature1': ['K', 'M', 'O', 'Q', 'S'],\n",
    "        'Feature2': ['L', 'N', 'P', 'R', 'T']}\n",
    "df2 = pd.DataFrame(df2_dict, columns = ['id', 'Feature1', 'Feature2'])\n",
    "\n",
    "print(\"--- DataFrame 1 ---\")\n",
    "print(df1)\n",
    "print(\"\\n--- DataFrame 2 ---\")\n",
    "print(df2)\n",
    "print(\"\\n\" + \"=\"*50 + \"\\n\")"
   ]
  },
  {
   "cell_type": "code",
   "execution_count": 2,
   "id": "67cd3720-d468-450b-8d61-4b5b9f17577a",
   "metadata": {},
   "outputs": [
    {
     "name": "stdout",
     "output_type": "stream",
     "text": [
      "Output 1: Inner Merge\n",
      "  id Feature1_x Feature2_x Feature1_y Feature2_y\n",
      "0  1          A          B          K          L\n",
      "1  2          C          D          M          N\n"
     ]
    }
   ],
   "source": [
    "# Inner Merge: Keeps only the intersecting IDs ('1' and '2')\n",
    "df_inner = pd.merge(df1, df2, on='id', how='inner')\n",
    "\n",
    "print(\"Output 1: Inner Merge\")\n",
    "print(df_inner)"
   ]
  },
  {
   "cell_type": "code",
   "execution_count": 4,
   "id": "1c383777-9ffe-41e5-b8f8-41750e6b51f3",
   "metadata": {},
   "outputs": [
    {
     "name": "stdout",
     "output_type": "stream",
     "text": [
      "\n",
      "Output 2: Full Outer Merge\n",
      "  id Feature1_df1 Feature2_df1 Feature1_df2 Feature2_df2\n",
      "0  1            A            B            K            L\n",
      "1  2            C            D            M            N\n",
      "2  3            E            F          nan          nan\n",
      "3  4            G            H          nan          nan\n",
      "4  5            I            J          nan          nan\n",
      "5  6          nan          nan            O            P\n",
      "6  7          nan          nan            Q            R\n",
      "7  8          nan          nan            S            T\n"
     ]
    }
   ],
   "source": [
    "# Outer Merge: Keeps all IDs from both DataFrames\n",
    "df_outer = pd.merge(\n",
    "    df1,\n",
    "    df2,\n",
    "    on='id',\n",
    "    how='outer',\n",
    "    suffixes=('_df1', '_df2') # Set custom suffixes for clarity\n",
    ")\n",
    "\n",
    "# Replace 'nan' with 'nannan' for visual match with your example (optional step)\n",
    "df_outer = df_outer.fillna('nan')\n",
    "\n",
    "print(\"\\nOutput 2: Full Outer Merge\")\n",
    "print(df_outer)"
   ]
  }
 ],
 "metadata": {
  "kernelspec": {
   "display_name": "Python 3 (ipykernel)",
   "language": "python",
   "name": "python3"
  },
  "language_info": {
   "codemirror_mode": {
    "name": "ipython",
    "version": 3
   },
   "file_extension": ".py",
   "mimetype": "text/x-python",
   "name": "python",
   "nbconvert_exporter": "python",
   "pygments_lexer": "ipython3",
   "version": "3.12.3"
  }
 },
 "nbformat": 4,
 "nbformat_minor": 5
}
